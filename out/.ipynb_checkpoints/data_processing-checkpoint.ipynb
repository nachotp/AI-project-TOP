{
 "cells": [
  {
   "cell_type": "code",
   "execution_count": 37,
   "metadata": {},
   "outputs": [],
   "source": [
    "import pandas as pd\n",
    "import matplotlib.pyplot as plt\n",
    "from os import listdir\n",
    "from os.path import isfile, join\n",
    "import numpy as np\n",
    "import seaborn as sns\n",
    "%matplotlib inline"
   ]
  },
  {
   "cell_type": "code",
   "execution_count": 2,
   "metadata": {},
   "outputs": [],
   "source": [
    "path = \"Experimento1\"\n",
    "onlyfiles = [join(path,f) for f in listdir(path) if isfile(join(path, f))]"
   ]
  },
  {
   "cell_type": "code",
   "execution_count": 3,
   "metadata": {},
   "outputs": [],
   "source": [
    "df1 = pd.DataFrame()\n",
    "for file in onlyfiles:\n",
    "    file_df = pd.read_csv(file,sep=';')\n",
    "    file_df['file_name'] = file.split(\"\\\\\")[1].split(\".\")[0]\n",
    "    df1 = df1.append(file_df)"
   ]
  },
  {
   "cell_type": "code",
   "execution_count": 4,
   "metadata": {},
   "outputs": [
    {
     "data": {
      "text/html": [
       "<div>\n",
       "<style scoped>\n",
       "    .dataframe tbody tr th:only-of-type {\n",
       "        vertical-align: middle;\n",
       "    }\n",
       "\n",
       "    .dataframe tbody tr th {\n",
       "        vertical-align: top;\n",
       "    }\n",
       "\n",
       "    .dataframe thead th {\n",
       "        text-align: right;\n",
       "    }\n",
       "</style>\n",
       "<table border=\"1\" class=\"dataframe\">\n",
       "  <thead>\n",
       "    <tr style=\"text-align: right;\">\n",
       "      <th></th>\n",
       "      <th>init</th>\n",
       "      <th>best</th>\n",
       "    </tr>\n",
       "    <tr>\n",
       "      <th>file_name</th>\n",
       "      <th></th>\n",
       "      <th></th>\n",
       "    </tr>\n",
       "  </thead>\n",
       "  <tbody>\n",
       "    <tr>\n",
       "      <th>p1</th>\n",
       "      <td>-72.324427</td>\n",
       "      <td>25.050000</td>\n",
       "    </tr>\n",
       "    <tr>\n",
       "      <th>p2</th>\n",
       "      <td>68.800000</td>\n",
       "      <td>123.350000</td>\n",
       "    </tr>\n",
       "    <tr>\n",
       "      <th>p3</th>\n",
       "      <td>60.174806</td>\n",
       "      <td>181.700000</td>\n",
       "    </tr>\n",
       "    <tr>\n",
       "      <th>p4</th>\n",
       "      <td>-136.529010</td>\n",
       "      <td>285.650000</td>\n",
       "    </tr>\n",
       "    <tr>\n",
       "      <th>p5</th>\n",
       "      <td>-114.819870</td>\n",
       "      <td>61.537783</td>\n",
       "    </tr>\n",
       "    <tr>\n",
       "      <th>p6</th>\n",
       "      <td>-75.847500</td>\n",
       "      <td>125.160000</td>\n",
       "    </tr>\n",
       "    <tr>\n",
       "      <th>p7</th>\n",
       "      <td>-862.971360</td>\n",
       "      <td>90.225610</td>\n",
       "    </tr>\n",
       "  </tbody>\n",
       "</table>\n",
       "</div>"
      ],
      "text/plain": [
       "                 init        best\n",
       "file_name                        \n",
       "p1         -72.324427   25.050000\n",
       "p2          68.800000  123.350000\n",
       "p3          60.174806  181.700000\n",
       "p4        -136.529010  285.650000\n",
       "p5        -114.819870   61.537783\n",
       "p6         -75.847500  125.160000\n",
       "p7        -862.971360   90.225610"
      ]
     },
     "execution_count": 4,
     "metadata": {},
     "output_type": "execute_result"
    }
   ],
   "source": [
    "df1.groupby([\"file_name\"]).mean()"
   ]
  },
  {
   "cell_type": "code",
   "execution_count": 5,
   "metadata": {},
   "outputs": [
    {
     "data": {
      "text/html": [
       "<div>\n",
       "<style scoped>\n",
       "    .dataframe tbody tr th:only-of-type {\n",
       "        vertical-align: middle;\n",
       "    }\n",
       "\n",
       "    .dataframe tbody tr th {\n",
       "        vertical-align: top;\n",
       "    }\n",
       "\n",
       "    .dataframe thead th {\n",
       "        text-align: right;\n",
       "    }\n",
       "</style>\n",
       "<table border=\"1\" class=\"dataframe\">\n",
       "  <thead>\n",
       "    <tr style=\"text-align: right;\">\n",
       "      <th></th>\n",
       "      <th>init</th>\n",
       "      <th>best</th>\n",
       "    </tr>\n",
       "    <tr>\n",
       "      <th>file_name</th>\n",
       "      <th></th>\n",
       "      <th></th>\n",
       "    </tr>\n",
       "  </thead>\n",
       "  <tbody>\n",
       "    <tr>\n",
       "      <th>100</th>\n",
       "      <td>-7497.12450</td>\n",
       "      <td>-4126.9306</td>\n",
       "    </tr>\n",
       "    <tr>\n",
       "      <th>1000</th>\n",
       "      <td>-5122.69200</td>\n",
       "      <td>631.3200</td>\n",
       "    </tr>\n",
       "    <tr>\n",
       "      <th>10000</th>\n",
       "      <td>-2887.22830</td>\n",
       "      <td>698.6300</td>\n",
       "    </tr>\n",
       "    <tr>\n",
       "      <th>2500</th>\n",
       "      <td>-4096.91600</td>\n",
       "      <td>673.3800</td>\n",
       "    </tr>\n",
       "    <tr>\n",
       "      <th>500</th>\n",
       "      <td>-6781.08210</td>\n",
       "      <td>567.9400</td>\n",
       "    </tr>\n",
       "    <tr>\n",
       "      <th>5000</th>\n",
       "      <td>-3358.10181</td>\n",
       "      <td>666.2800</td>\n",
       "    </tr>\n",
       "    <tr>\n",
       "      <th>50000</th>\n",
       "      <td>-1707.72161</td>\n",
       "      <td>715.8300</td>\n",
       "    </tr>\n",
       "    <tr>\n",
       "      <th>7500</th>\n",
       "      <td>-3077.46463</td>\n",
       "      <td>688.0900</td>\n",
       "    </tr>\n",
       "  </tbody>\n",
       "</table>\n",
       "</div>"
      ],
      "text/plain": [
       "                 init       best\n",
       "file_name                       \n",
       "100       -7497.12450 -4126.9306\n",
       "1000      -5122.69200   631.3200\n",
       "10000     -2887.22830   698.6300\n",
       "2500      -4096.91600   673.3800\n",
       "500       -6781.08210   567.9400\n",
       "5000      -3358.10181   666.2800\n",
       "50000     -1707.72161   715.8300\n",
       "7500      -3077.46463   688.0900"
      ]
     },
     "execution_count": 5,
     "metadata": {},
     "output_type": "execute_result"
    }
   ],
   "source": [
    "path = \"Experimento2\"\n",
    "onlyfiles = [join(path,f) for f in listdir(path) if isfile(join(path, f))]\n",
    "df2 = pd.DataFrame()\n",
    "for file in onlyfiles:\n",
    "    file_df = pd.read_csv(file,sep=';')\n",
    "    file_df['file_name'] = file.split(\"\\\\\")[1].split(\".\")[0][1:]\n",
    "    df2 = df2.append(file_df)\n",
    "df2.groupby([\"file_name\"]).mean()"
   ]
  },
  {
   "cell_type": "code",
   "execution_count": 61,
   "metadata": {},
   "outputs": [
    {
     "data": {
      "image/png": "[encoded data removed]",
      "text/plain": [
       "<Figure size 1152x576 with 1 Axes>"
      ]
     },
     "metadata": {},
     "output_type": "display_data"
    }
   ],
   "source": [
    "y = np.array([\"100\", \"500\", \"1000\", \"2500\", \"5000\", \"7500\", \"10000\", \"50000\"])\n",
    "x = [df2.best.loc[df2[\"file_name\"] == p] for p in y]\n",
    "fig1, ax1 = plt.subplots(figsize=(16,8))\n",
    "ax1.boxplot(x, showfliers=False, labels=y);"
   ]
  },
  {
   "cell_type": "code",
   "execution_count": 6,
   "metadata": {},
   "outputs": [
    {
     "data": {
      "text/html": [
       "<div>\n",
       "<style scoped>\n",
       "    .dataframe tbody tr th:only-of-type {\n",
       "        vertical-align: middle;\n",
       "    }\n",
       "\n",
       "    .dataframe tbody tr th {\n",
       "        vertical-align: top;\n",
       "    }\n",
       "\n",
       "    .dataframe thead th {\n",
       "        text-align: right;\n",
       "    }\n",
       "</style>\n",
       "<table border=\"1\" class=\"dataframe\">\n",
       "  <thead>\n",
       "    <tr style=\"text-align: right;\">\n",
       "      <th></th>\n",
       "      <th>init</th>\n",
       "      <th>best</th>\n",
       "    </tr>\n",
       "    <tr>\n",
       "      <th>file_name</th>\n",
       "      <th></th>\n",
       "      <th></th>\n",
       "    </tr>\n",
       "  </thead>\n",
       "  <tbody>\n",
       "    <tr>\n",
       "      <th>0</th>\n",
       "      <td>-3564.17800</td>\n",
       "      <td>248.18</td>\n",
       "    </tr>\n",
       "    <tr>\n",
       "      <th>0.01</th>\n",
       "      <td>-4132.07920</td>\n",
       "      <td>495.80</td>\n",
       "    </tr>\n",
       "    <tr>\n",
       "      <th>0.05</th>\n",
       "      <td>-3137.25478</td>\n",
       "      <td>582.38</td>\n",
       "    </tr>\n",
       "    <tr>\n",
       "      <th>0.1</th>\n",
       "      <td>-3505.65120</td>\n",
       "      <td>632.32</td>\n",
       "    </tr>\n",
       "    <tr>\n",
       "      <th>0.2</th>\n",
       "      <td>-3308.65686</td>\n",
       "      <td>683.48</td>\n",
       "    </tr>\n",
       "    <tr>\n",
       "      <th>0.4</th>\n",
       "      <td>-3594.08654</td>\n",
       "      <td>728.84</td>\n",
       "    </tr>\n",
       "    <tr>\n",
       "      <th>0.5</th>\n",
       "      <td>-3578.18740</td>\n",
       "      <td>746.44</td>\n",
       "    </tr>\n",
       "  </tbody>\n",
       "</table>\n",
       "</div>"
      ],
      "text/plain": [
       "                 init    best\n",
       "file_name                    \n",
       "0         -3564.17800  248.18\n",
       "0.01      -4132.07920  495.80\n",
       "0.05      -3137.25478  582.38\n",
       "0.1       -3505.65120  632.32\n",
       "0.2       -3308.65686  683.48\n",
       "0.4       -3594.08654  728.84\n",
       "0.5       -3578.18740  746.44"
      ]
     },
     "execution_count": 6,
     "metadata": {},
     "output_type": "execute_result"
    }
   ],
   "source": [
    "path = \"Experimento3\"\n",
    "onlyfiles = [join(path,f) for f in listdir(path) if isfile(join(path, f))]\n",
    "df3 = pd.DataFrame()\n",
    "for file in onlyfiles:\n",
    "    file_df = pd.read_csv(file,sep=';')\n",
    "    file_df['file_name'] = file.split(\"\\\\\")[1].strip(\".out\")[1:]\n",
    "    df3 = df3.append(file_df)\n",
    "df3.groupby([\"file_name\"]).mean()"
   ]
  },
  {
   "cell_type": "code",
   "execution_count": 59,
   "metadata": {},
   "outputs": [
    {
     "data": {
      "image/png": "[encoded data removed]",
      "text/plain": [
       "<Figure size 1152x576 with 1 Axes>"
      ]
     },
     "metadata": {},
     "output_type": "display_data"
    }
   ],
   "source": [
    "y = np.array([\"0\", \"0.01\", \"0.05\", \"0.1\", \"0.2\",\"0.4\", \"0.5\"])\n",
    "x = [df3.best.loc[df3[\"file_name\"] == p] for p in y]\n",
    "fig1, ax1 = plt.subplots(figsize=(16,8))\n",
    "ax1.boxplot(x, showfliers=False, labels=y);"
   ]
  },
  {
   "cell_type": "code",
   "execution_count": 23,
   "metadata": {},
   "outputs": [
    {
     "data": {
      "text/html": [
       "<div>\n",
       "<style scoped>\n",
       "    .dataframe tbody tr th:only-of-type {\n",
       "        vertical-align: middle;\n",
       "    }\n",
       "\n",
       "    .dataframe tbody tr th {\n",
       "        vertical-align: top;\n",
       "    }\n",
       "\n",
       "    .dataframe thead th {\n",
       "        text-align: right;\n",
       "    }\n",
       "</style>\n",
       "<table border=\"1\" class=\"dataframe\">\n",
       "  <thead>\n",
       "    <tr style=\"text-align: right;\">\n",
       "      <th></th>\n",
       "      <th>init</th>\n",
       "      <th>best</th>\n",
       "    </tr>\n",
       "    <tr>\n",
       "      <th>file_name</th>\n",
       "      <th></th>\n",
       "      <th></th>\n",
       "    </tr>\n",
       "  </thead>\n",
       "  <tbody>\n",
       "    <tr>\n",
       "      <th>0</th>\n",
       "      <td>-3510.16000</td>\n",
       "      <td>299.900</td>\n",
       "    </tr>\n",
       "    <tr>\n",
       "      <th>0.1</th>\n",
       "      <td>-3507.34120</td>\n",
       "      <td>710.620</td>\n",
       "    </tr>\n",
       "    <tr>\n",
       "      <th>0.2</th>\n",
       "      <td>-3606.38876</td>\n",
       "      <td>748.380</td>\n",
       "    </tr>\n",
       "    <tr>\n",
       "      <th>0.4</th>\n",
       "      <td>-3505.71390</td>\n",
       "      <td>773.340</td>\n",
       "    </tr>\n",
       "    <tr>\n",
       "      <th>0.5</th>\n",
       "      <td>-3322.59760</td>\n",
       "      <td>784.960</td>\n",
       "    </tr>\n",
       "    <tr>\n",
       "      <th>0.7</th>\n",
       "      <td>-3505.93580</td>\n",
       "      <td>771.040</td>\n",
       "    </tr>\n",
       "    <tr>\n",
       "      <th>0.8</th>\n",
       "      <td>-3758.09700</td>\n",
       "      <td>763.240</td>\n",
       "    </tr>\n",
       "    <tr>\n",
       "      <th>0.9</th>\n",
       "      <td>-3432.60656</td>\n",
       "      <td>604.793</td>\n",
       "    </tr>\n",
       "  </tbody>\n",
       "</table>\n",
       "</div>"
      ],
      "text/plain": [
       "                 init     best\n",
       "file_name                     \n",
       "0         -3510.16000  299.900\n",
       "0.1       -3507.34120  710.620\n",
       "0.2       -3606.38876  748.380\n",
       "0.4       -3505.71390  773.340\n",
       "0.5       -3322.59760  784.960\n",
       "0.7       -3505.93580  771.040\n",
       "0.8       -3758.09700  763.240\n",
       "0.9       -3432.60656  604.793"
      ]
     },
     "execution_count": 23,
     "metadata": {},
     "output_type": "execute_result"
    }
   ],
   "source": [
    "path = \"Experimento4\"\n",
    "onlyfiles = [join(path,f) for f in listdir(path) if isfile(join(path, f))]\n",
    "df4 = pd.DataFrame()\n",
    "for file in onlyfiles:\n",
    "    file_df = pd.read_csv(file,sep=';')\n",
    "    file_df['file_name'] = file.split(\"\\\\\")[1].strip(\".out\")[1:]\n",
    "    df4 = df4.append(file_df)\n",
    "    \n",
    "df4['best'] = pd.to_numeric(df4['best'])\n",
    "df4.groupby([\"file_name\"]).mean()"
   ]
  },
  {
   "cell_type": "code",
   "execution_count": 58,
   "metadata": {},
   "outputs": [
    {
     "data": {
      "image/png": "[encoded data removed]",
      "text/plain": [
       "<Figure size 1152x576 with 1 Axes>"
      ]
     },
     "metadata": {},
     "output_type": "display_data"
    }
   ],
   "source": [
    "y = np.array([\"0\", \"0.1\", \"0.2\", \"0.4\", \"0.5\",\"0.7\", \"0.8\", \"0.9\"])\n",
    "x = [df4.best.loc[df4[\"file_name\"] == p] for p in y]\n",
    "fig1, ax1 = plt.subplots(figsize=(16,8))\n",
    "ax1.boxplot(x, showfliers=False, labels=y);"
   ]
  },
  {
   "cell_type": "code",
   "execution_count": null,
   "metadata": {},
   "outputs": [],
   "source": []
  }
 ],
 "metadata": {
  "kernelspec": {
   "display_name": "Python 3",
   "language": "python",
   "name": "python3"
  },
  "language_info": {
   "codemirror_mode": {
    "name": "ipython",
    "version": 3
   },
   "file_extension": ".py",
   "mimetype": "text/x-python",
   "name": "python",
   "nbconvert_exporter": "python",
   "pygments_lexer": "ipython3",
   "version": "3.6.5"
  }
 },
 "nbformat": 4,
 "nbformat_minor": 2
}
